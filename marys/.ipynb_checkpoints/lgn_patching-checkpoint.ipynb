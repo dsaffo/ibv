{
 "cells": [
  {
   "cell_type": "markdown",
   "metadata": {},
   "source": [
    "# Innate Binocular Visual Learning Project\n",
    "### Final Project for COMP 386: Computational Neuroscience\n",
    "#### Worked on by:\n",
    "- Sam Sendelbach\n",
    "- David Saffo\n",
    "- Mary Makarious\n",
    "\n",
    "#### Project Summary\n",
    "[Copy paste]"
   ]
  },
  {
   "cell_type": "markdown",
   "metadata": {},
   "source": [
    "---"
   ]
  },
  {
   "cell_type": "markdown",
   "metadata": {},
   "source": [
    "##### Necessary Packages to Import "
   ]
  },
  {
   "cell_type": "code",
   "execution_count": 1,
   "metadata": {
    "collapsed": true
   },
   "outputs": [],
   "source": [
    "from numpy import *\n",
    "import pylab\n",
    "import matplotlib.pyplot as plt\n",
    "import numpy as np\n",
    "import matplotlib.image as mpimg\n",
    "import PIL\n",
    "%matplotlib inline"
   ]
  },
  {
   "cell_type": "markdown",
   "metadata": {},
   "source": [
    "---"
   ]
  },
  {
   "cell_type": "markdown",
   "metadata": {},
   "source": [
    "##### [Insert Description Here]"
   ]
  },
  {
   "cell_type": "code",
   "execution_count": 2,
   "metadata": {
    "collapsed": true
   },
   "outputs": [],
   "source": [
    "def distance(x0, y0, x1, y1):\n",
    "  return sqrt(pow(x0-x1,2) + pow(y0-y1,2))\n",
    "\n",
    "class LGN: \n",
    "  \"\"\"\n",
    "  this class defines a model which generates binocular spontaneous activity\n",
    "  \"\"\"\n",
    "  \n",
    "  def __init__(self, width = 128, p = 0.5, r = 1.0, t = 1, trans = 0.0,\n",
    "    make_wave = True, num_layers=2, random_seed=0):\n",
    "    random.seed(random_seed)\n",
    "    self.width = width\n",
    "    self.p = p\n",
    "    self.r = r\n",
    "    self.t = t\n",
    "    self.trans = trans\n",
    "    self.num_layers = num_layers\n",
    "    if make_wave:\n",
    "      self.reset_wave()\n",
    "\n",
    "  def reset_wave(self):\n",
    "    \"\"\" create another random wave \"\"\"\n",
    "    # setting up the network\n",
    "    w = self.width\n",
    "    self.recruitable = random.rand(self.num_layers, w, w) < self.p\n",
    "    self.tot_recruitable = len(where(self.recruitable)[0])\n",
    "    self.tot_recruitable_active = 0\n",
    "    self.tot_active = 0\n",
    "    self.active = zeros([self.num_layers,w,w],bool)\n",
    "    self.active_neighbors = zeros([self.num_layers,w,w],int)\n",
    "    self.activated = []; # the recently active nodes\n",
    "    \n",
    "    if self.tot_recruitable > 0:\n",
    "      while self.fraction_active() < 0.2:\n",
    "        self.activate()  \n",
    "\n",
    "  def fraction_active(self):\n",
    "    \"\"\" returns the fraction of potentially recruitable cells which are active \"\"\"\n",
    "    if self.tot_recruitable > 0:\n",
    "      return float(self.tot_recruitable_active) / self.tot_recruitable\n",
    "    else:\n",
    "      return nan\n",
    "\n",
    "  def propagate(self):\n",
    "    \"\"\" propagate the activity if a valid node has been activated \"\"\"\n",
    "    # activated only has recruitable and currently inactive members\n",
    "    while len(self.activated) > 0:\n",
    "      act_l, act_x, act_y = self.activated.pop()\n",
    "      self.active[act_l,act_x,act_y] = True\n",
    "      self.tot_active += 1\n",
    "      self.tot_recruitable_active += 1\n",
    "      for l in range(self.num_layers):\n",
    "        for x in range(int(act_x-self.r),int(act_x+self.r+1)):\n",
    "          for y in range(int(act_y-self.r),int(act_y+self.r+1)):\n",
    "            if distance(act_x,act_y,x,y) <= self.r:\n",
    "              xi = x % self.width\n",
    "              yi = y % self.width\n",
    "              if l != act_l: # spread the activity across layers\n",
    "                if random.rand() < self.trans: # transfer the activity\n",
    "                  self.active_neighbors[l, xi,yi] += 1\n",
    "              else: # if it is the same layer\n",
    "                self.active_neighbors[l, xi,yi] += 1\n",
    "              if self.active_neighbors[l, xi,yi] == self.t and \\\n",
    "                not self.active[l, xi,yi]:\n",
    "                if self.recruitable[l, xi,yi]:\n",
    "                  self.activated.append([l, xi,yi])\n",
    "                else: # activate the node but don't propagate the activity\n",
    "                  self.active[l,xi,yi] = True\n",
    "                  self.tot_active += 1\n",
    "\n",
    "  def activate(self):\n",
    "    \"\"\" activate a random potentially active node \"\"\"\n",
    "    if self.fraction_active() > 0.95:\n",
    "      return\n",
    "      \n",
    "    # pick a random point\n",
    "    while True:\n",
    "      l = random.randint(0,self.num_layers)\n",
    "      x = random.randint(0,self.width)\n",
    "      y = random.randint(0,self.width)\n",
    "      if (self.recruitable[l,x,y] and not self.active[l,x,y]):\n",
    "        break\n",
    "    self.activated.append([l,x,y])\n",
    "    self.propagate()\n",
    "\n",
    "  def correlation(self):\n",
    "    \"\"\" returns the correlation between the left and right images \"\"\"\n",
    "    # the total number of activations in common\n",
    "    # same_count = len(where(self.active[0,:,:] == self.active[1,:,:])[0])\n",
    "    # return float(same_count) / (self.width * self.width)\n",
    "    \n",
    "    # create an activity matrix of 0's and 1's (instead of True and False)\n",
    "    if self.num_layers < 2:\n",
    "      print(\"monocular models cannot have correlations between eye layers\")\n",
    "      return 0\n",
    "    w = self.width\n",
    "    active01 = zeros([2,w,w],int)\n",
    "    active01[where(self.active)] = 1\n",
    "    \n",
    "    mean0 = active01[0,:,:].mean()\n",
    "    mean1 = active01[1,:,:].mean()\n",
    "    std0 = active01[0,:,:].std()\n",
    "    std1 = active01[1,:,:].std()\n",
    "    cov = ((active01[0,:,:] - mean0) * (active01[1,:,:] - mean1)).mean()\n",
    "    return cov / (std0 * std1)\n",
    "    \n",
    "    \n",
    "  def make_img_mat(self, show_img=True):\n",
    "    \"\"\" return a matrix of 1's and 0's showing the activity in both layers \"\"\"\n",
    "    img_array = zeros([self.num_layers,self.width,self.width])\n",
    "    border_width = 10 if self.num_layers > 1 else 0\n",
    "    w = self.width\n",
    "    for l in range(self.num_layers):\n",
    "        img = zeros([w, w], float)\n",
    "        for x in range(0,w-1):\n",
    "            for y in range(0,w-1):\n",
    "                if self.active[l,x,y]:\n",
    "                    img[x,y] = 1\n",
    "                    \n",
    "    \n",
    "        img_array[l] = img         \n",
    "        plt.imshow(img)\n",
    "        plt.show()\n",
    "        \n",
    "    return img_array\n"
   ]
  },
  {
   "cell_type": "markdown",
   "metadata": {},
   "source": [
    "##### [Description Here]"
   ]
  },
  {
   "cell_type": "code",
   "execution_count": 3,
   "metadata": {
    "collapsed": false
   },
   "outputs": [
    {
     "data": {
      "image/png": "[encoded data removed]",
      "text/plain": [
       "<matplotlib.figure.Figure at 0x23dfd0ff9b0>"
      ]
     },
     "metadata": {},
     "output_type": "display_data"
    },
    {
     "data": {
      "image/png": "[encoded data removed]",
      "text/plain": [
       "<matplotlib.figure.Figure at 0x23dff403c50>"
      ]
     },
     "metadata": {},
     "output_type": "display_data"
    }
   ],
   "source": [
    "L = LGN(width = 256, p = 0.2, r = 1.5, t = 1, trans = 0.0, make_wave = True, num_layers=2, random_seed=5)\n",
    "images = L.make_img_mat()"
   ]
  },
  {
   "cell_type": "markdown",
   "metadata": {
    "collapsed": true
   },
   "source": [
    "#### Parameters \n",
    "- p = recrutable cells (cell spacing, chemical inhibition, recovery speed)\n",
    "- r = similar to \"dendritic field size\" (radius)\n",
    "- t = threshold (how many neighbors are are needed to activate)\n",
    "- trans = probability of transmitting activity from one eye layer to the next (cross-talk between layers)"
   ]
  },
  {
   "cell_type": "markdown",
   "metadata": {},
   "source": [
    "---"
   ]
  },
  {
   "cell_type": "code",
   "execution_count": 4,
   "metadata": {
    "collapsed": false
   },
   "outputs": [],
   "source": [
    "import scipy.misc\n",
    "from IPython.display import Image, Audio\n",
    "scipy.misc.imsave('imgs/1.tiff', images[0])\n",
    "scipy.misc.imsave('imgs/2.tiff', images[1])"
   ]
  },
  {
   "cell_type": "markdown",
   "metadata": {},
   "source": [
    "##### Extracting Patches"
   ]
  },
  {
   "cell_type": "code",
   "execution_count": 5,
   "metadata": {
    "collapsed": false
   },
   "outputs": [
    {
     "data": {
      "image/png": "[encoded data removed]",
      "text/plain": [
       "<matplotlib.figure.Figure at 0x22ff7730550>"
      ]
     },
     "metadata": {},
     "output_type": "display_data"
    }
   ],
   "source": [
    "# packages used among multiple sections\n",
    "\n",
    "import sklearn.decomposition # For FastICA and PCA\n",
    "from IPython.display import Image, Audio\n",
    "\n",
    "# setting up interactive plotting\n",
    "import pylab as py\n",
    "# to show plots directly in the notebook\n",
    "%matplotlib inline\n",
    "\n",
    "import numpy as np\n",
    "# just changes precision for printing, easier on the eyes\n",
    "np.set_printoptions(precision=3)\n",
    "np.set_printoptions(suppress=True) # to supress exponential notation\n",
    "import matplotlib.image as mpimg\n",
    "import PIL.Image\n",
    "\n",
    "show_these = ['1.tiff','2.tiff'] # there are 1-13.tiff's\n",
    "\n",
    "# read in images and display from array form - fix: could be simpler\n",
    "fig = py.figure(figsize=(8,14))\n",
    "for (i,file) in enumerate(show_these):\n",
    "    py.subplot(3,1,i+1)\n",
    "    img = PIL.Image.open('imgs/'+file)\n",
    "    py.imshow(img, cmap=py.cm.Greys_r)"
   ]
  },
  {
   "cell_type": "code",
   "execution_count": 15,
   "metadata": {
    "collapsed": false
   },
   "outputs": [
    {
     "name": "stdout",
     "output_type": "stream",
     "text": [
      "0.084\n",
      "0.168\n",
      "0.252\n",
      "0.336\n",
      "0.42\n",
      "0.504\n",
      "0.588\n",
      "0.672\n",
      "0.756\n",
      "0.84\n",
      "0.924\n",
      "0.084\n",
      "0.168\n",
      "0.252\n",
      "0.336\n",
      "0.42\n",
      "0.504\n",
      "0.588\n",
      "0.672\n",
      "0.756\n",
      "0.84\n",
      "0.924\n",
      "(64, 1000) (64, 1000)\n"
     ]
    }
   ],
   "source": [
    "# time to collect some small random patches from those images\n",
    "import numpy as np\n",
    "def collect_natural_patches(img, num_patches = 5000, patch_width = 8, downsample=2):\n",
    "  \"\"\" collects image patches, in the same way as the LGN model, for analysis \n",
    "  the natural images are from a specific folder of 13 .tiff files\"\"\"\n",
    "\n",
    "  from PIL import Image\n",
    "  max_tries = num_patches * 50\n",
    "  image_width = 200\n",
    "  \n",
    "  img_first_patch = 0 # the first patch number accepted from an image\n",
    "  img_first_try = 0 # the first attempt to take a patch from the image\n",
    "  patch_cnt = 0\n",
    "  try_cnt = 0\n",
    "  ds = downsample\n",
    "  w = patch_width * ds\n",
    "  d = w * w\n",
    "  d_final = patch_width * patch_width\n",
    "  avg_filt = np.ones([ds, ds],'float') / ds**2\n",
    "\n",
    "  layer_patch = np.zeros([1,w,w],float)\n",
    "  down_patch = np.zeros([1,patch_width,patch_width],'float')  \n",
    "  patch = np.zeros([d,1],float)\n",
    "  \n",
    "  img_patches = np.zeros( [d_final,num_patches],float)\n",
    "\n",
    "  # change the image sampled from\n",
    "  nat_img_cnt = 1  \n",
    "  active = Image.open(img)\n",
    "  active = np.asarray(active, 'double').transpose()  \n",
    "  # normalizing the activity image\n",
    "  active -= active.mean()\n",
    "  active /= active.std()\n",
    "      \n",
    "  # collect the patches\n",
    "  while patch_cnt < num_patches and try_cnt < max_tries:\n",
    "    try_cnt += 1  # number of total patches attempted\n",
    "\n",
    "    if (try_cnt - img_first_try) > 50000 or \\\n",
    "      (patch_cnt - img_first_patch) > num_patches/12:\n",
    "      # change the image sampled from\n",
    "      \n",
    "      active = Image.open(img)\n",
    "      active = np.asarray(active, 'double').transpose()        \n",
    "      # normalizing the activity image\n",
    "      active -= active.mean()\n",
    "      active /= active.std()\n",
    "      \n",
    "      img_first_patch = patch_cnt\n",
    "      img_first_try = try_cnt\n",
    "      print (float(patch_cnt)/num_patches)\n",
    "    \n",
    "    px = np.random.randint(0,image_width - w)\n",
    "    py = np.random.randint(0,image_width - w)\n",
    "        \n",
    "    layer_patch[0,:,:] = active[px:px+w,py:py+w].copy()\n",
    "    patch_std = layer_patch.std()\n",
    "    \n",
    "    if patch_std > 0.0:\n",
    "      # create the patch vector\n",
    "      # downsample the patch\n",
    "      for x in range(patch_width):\n",
    "        for y in range(patch_width):\n",
    "          down_patch[0,x,y] = np.sum(avg_filt * layer_patch[0,ds*x:ds*x+ds,ds*y:ds*y+ds])      \n",
    "      patch = np.reshape(down_patch, d_final)     \n",
    "      patch = patch - np.mean(patch)         \n",
    "      img_patches[:,patch_cnt] = patch.copy()\n",
    "      patch_cnt += 1\n",
    "  return img_patches\n",
    "        \n",
    "patches_mat1 = collect_natural_patches('imgs/1.tiff', num_patches=1000)\n",
    "patches_mat2 = collect_natural_patches('imgs/2.tiff', num_patches=1000)\n",
    "print(patches_mat1.shape, patches_mat2.shape)"
   ]
  },
  {
   "cell_type": "code",
   "execution_count": 17,
   "metadata": {
    "collapsed": false
   },
   "outputs": [
    {
     "data": {
      "image/png": "[encoded data removed]",
      "text/plain": [
       "<matplotlib.figure.Figure at 0x23d81909b00>"
      ]
     },
     "metadata": {},
     "output_type": "display_data"
    }
   ],
   "source": [
    "import pylab as py\n",
    "def show_patches_mat(pre_patches, show_patch_num = 16, display=True):\n",
    "  \n",
    "  \n",
    "    patches = pre_patches\n",
    "    \n",
    "    tot_patches = patches.shape[1]\n",
    "    data_dim = patches.shape[0]\n",
    "    patch_width = int(np.round(np.sqrt(data_dim)))\n",
    "  \n",
    "    # extract show_patch_num patches\n",
    "    disp_patch = np.zeros([data_dim, show_patch_num], float)\n",
    "    for i in range(0,show_patch_num):\n",
    "        patch_i = i * tot_patches // show_patch_num\n",
    "  \n",
    "        patch = patches[:,patch_i].copy()\n",
    "        pmax  = patch.max()\n",
    "        pmin = patch.min()\n",
    "        # fix patch range from min to max to 0 to 1\n",
    "        if pmax > pmin: \n",
    "            patch = (patch - pmin) / (pmax - pmin)\n",
    "        disp_patch[:,i] = patch.copy()\n",
    "\n",
    "    bw = 5    # border width\n",
    "    pw = patch_width\n",
    "  \n",
    "    patches_y = int(np.sqrt(show_patch_num))\n",
    "    patches_x = int(np.ceil(float(show_patch_num) / patches_y))\n",
    "    patch_img = disp_patch.max() * np.ones([(pw + bw) * patches_x - bw,\n",
    "    patches_y * (pw + bw) - bw], float)\n",
    "    for i in range(0,show_patch_num): \n",
    "        y_i = i // patches_y\n",
    "        x_i = i % patches_y\n",
    "\n",
    "        reshaped = disp_patch[:,i].reshape((pw,pw))\n",
    "        full_patch = np.zeros([pw, pw], float)\n",
    "        full_patch[0:pw,:] = reshaped[:,:].copy()\n",
    "        patch_img[x_i*(pw+bw):x_i*(pw+bw)+pw,y_i*(pw+bw):y_i*(pw+bw)+pw] = full_patch\n",
    "  \n",
    "    if display:\n",
    "        py.bone()\n",
    "        py.imshow(patch_img.T, interpolation='nearest')\n",
    "        py.axis('off')\n",
    "    return\n",
    "\n",
    "show_patches_mat(patches_mat1)\n"
   ]
  },
  {
   "cell_type": "code",
   "execution_count": 23,
   "metadata": {
    "collapsed": false
   },
   "outputs": [
    {
     "data": {
      "image/png": "[encoded data removed]",
      "text/plain": [
       "<matplotlib.figure.Figure at 0x23d8136c5f8>"
      ]
     },
     "metadata": {},
     "output_type": "display_data"
    }
   ],
   "source": [
    "show_patches_mat(patches_mat2)"
   ]
  },
  {
   "cell_type": "code",
   "execution_count": 20,
   "metadata": {
    "collapsed": false
   },
   "outputs": [
    {
     "data": {
      "image/png": "[encoded data removed]",
      "text/plain": [
       "<matplotlib.figure.Figure at 0x23d819a6208>"
      ]
     },
     "metadata": {},
     "output_type": "display_data"
    }
   ],
   "source": [
    "import sklearn.decomposition\n",
    "icatemp = sklearn.decomposition.FastICA(n_components=32) # note, sensitive to n_components\n",
    "icafit1 = icatemp.fit(np.transpose(patches_mat1))\n",
    "icafit2 = icatemp.fit(np.transpose(patches_mat2))\n",
    "ica_comp1 = icafit1.components_\n",
    "ica_comp2 = icafit2.components_\n",
    "# print('shape of the ica component matrix: ',ica_comp.shape)\n",
    "\n",
    "show_patches_mat(np.transpose(ica_comp1), 25)"
   ]
  },
  {
   "cell_type": "code",
   "execution_count": 21,
   "metadata": {
    "collapsed": false
   },
   "outputs": [
    {
     "data": {
      "image/png": "[encoded data removed]",
      "text/plain": [
       "<matplotlib.figure.Figure at 0x23dff500c18>"
      ]
     },
     "metadata": {},
     "output_type": "display_data"
    }
   ],
   "source": [
    "show_patches_mat(np.transpose(ica_comp2), 25)"
   ]
  },
  {
   "cell_type": "code",
   "execution_count": 14,
   "metadata": {
    "collapsed": false
   },
   "outputs": [
    {
     "data": {
      "text/plain": [
       "(1000, 64)"
      ]
     },
     "execution_count": 14,
     "metadata": {},
     "output_type": "execute_result"
    }
   ],
   "source": [
    "np.transpose(patches_mat).shape"
   ]
  },
  {
   "cell_type": "code",
   "execution_count": 29,
   "metadata": {
    "collapsed": false
   },
   "outputs": [],
   "source": [
    "x = np.transpose(ica_comp)"
   ]
  },
  {
   "cell_type": "code",
   "execution_count": 30,
   "metadata": {
    "collapsed": false
   },
   "outputs": [
    {
     "data": {
      "text/plain": [
       "(64, 64)"
      ]
     },
     "execution_count": 30,
     "metadata": {},
     "output_type": "execute_result"
    }
   ],
   "source": [
    "x.shape"
   ]
  },
  {
   "cell_type": "code",
   "execution_count": 7,
   "metadata": {
    "collapsed": true
   },
   "outputs": [],
   "source": [
    "from sklearn.feature_extraction import image\n",
    "\n",
    "patches1 = image.extract_patches_2d(images[0], (16, 16))\n",
    "patches2 = image.extract_patches_2d(images[1], (16, 16))"
   ]
  },
  {
   "cell_type": "code",
   "execution_count": 8,
   "metadata": {
    "collapsed": false
   },
   "outputs": [
    {
     "data": {
      "text/plain": [
       "12769"
      ]
     },
     "execution_count": 8,
     "metadata": {},
     "output_type": "execute_result"
    }
   ],
   "source": [
    "len(patches2)"
   ]
  },
  {
   "cell_type": "code",
   "execution_count": 9,
   "metadata": {
    "collapsed": false
   },
   "outputs": [
    {
     "data": {
      "text/plain": [
       "<matplotlib.image.AxesImage at 0x18696d02da0>"
      ]
     },
     "execution_count": 9,
     "metadata": {},
     "output_type": "execute_result"
    },
    {
     "data": {
      "image/png": "[encoded data removed]",
      "text/plain": [
       "<matplotlib.figure.Figure at 0x18680e09978>"
      ]
     },
     "metadata": {},
     "output_type": "display_data"
    }
   ],
   "source": [
    "plt.imshow(patches1[0])"
   ]
  },
  {
   "cell_type": "code",
   "execution_count": 10,
   "metadata": {
    "collapsed": true
   },
   "outputs": [],
   "source": [
    "from mpl_toolkits.axes_grid1 import AxesGrid\n",
    "\n",
    "def grid(fig, patches):\n",
    "    grid = AxesGrid(fig, 110,  # similar to subplot(141)\n",
    "                    nrows_ncols=(5, 5), # Number of columns and rows\n",
    "                    axes_pad=0.3, # Distance between grids\n",
    "                    label_mode=\"all\"\n",
    "                    )\n",
    "\n",
    "    Z = patches[0:25]\n",
    "    for i in range(25):\n",
    "        im = grid[i].imshow(Z[i], interpolation=\"nearest\")\n",
    "\n",
    "\n",
    "# Need to turn off plt.axis "
   ]
  },
  {
   "cell_type": "code",
   "execution_count": 11,
   "metadata": {
    "collapsed": false,
    "scrolled": false
   },
   "outputs": [
    {
     "data": {
      "image/png": "[encoded data removed]",
      "text/plain": [
       "<matplotlib.figure.Figure at 0x18696d18710>"
      ]
     },
     "metadata": {},
     "output_type": "display_data"
    }
   ],
   "source": [
    "F = plt.figure(1, (20, 10))\n",
    "F.subplots_adjust(left=0.05, right=0.95)\n",
    "\n",
    "grid(F, patches1)\n",
    "\n",
    "# Need to turn off plt.axis "
   ]
  },
  {
   "cell_type": "code",
   "execution_count": 12,
   "metadata": {
    "collapsed": false
   },
   "outputs": [
    {
     "data": {
      "image/png": "[encoded data removed]",
      "text/plain": [
       "<matplotlib.figure.Figure at 0x18699762550>"
      ]
     },
     "metadata": {},
     "output_type": "display_data"
    }
   ],
   "source": [
    "F = plt.figure(1, (20, 10))\n",
    "F.subplots_adjust(left=0.05, right=0.95)\n",
    "\n",
    "grid(F, patches2)"
   ]
  },
  {
   "cell_type": "code",
   "execution_count": 41,
   "metadata": {
    "collapsed": true
   },
   "outputs": [],
   "source": [
    "def grid2(fig, patches):\n",
    "    grid = AxesGrid(fig, 110,  # similar to subplot(141)\n",
    "                    nrows_ncols=(4, 4), # Number of columns and rows\n",
    "                    axes_pad=0.3, # Distance between grids\n",
    "                    label_mode=\"all\"\n",
    "                    )\n",
    "\n",
    "    Z = patches[0:16]\n",
    "    for i in range(16):\n",
    "        im = grid[i].imshow(Z[i], interpolation=\"nearest\")\n",
    "\n",
    "\n",
    "# Need to turn off plt.axis "
   ]
  },
  {
   "cell_type": "code",
   "execution_count": 15,
   "metadata": {
    "collapsed": true
   },
   "outputs": [],
   "source": [
    "from sklearn.decomposition import FastICA"
   ]
  },
  {
   "cell_type": "code",
   "execution_count": 58,
   "metadata": {
    "collapsed": false
   },
   "outputs": [
    {
     "name": "stderr",
     "output_type": "stream",
     "text": [
      "C:\\Users\\dsaffo\\Anaconda3\\lib\\site-packages\\sklearn\\decomposition\\fastica_.py:312: RuntimeWarning: divide by zero encountered in true_divide\n",
      "  K = (u / d).T[:n_components]  # see (6.33) p.140\n",
      "C:\\Users\\dsaffo\\Anaconda3\\lib\\site-packages\\sklearn\\decomposition\\fastica_.py:312: RuntimeWarning: invalid value encountered in true_divide\n",
      "  K = (u / d).T[:n_components]  # see (6.33) p.140\n"
     ]
    }
   ],
   "source": [
    "icatemp = FastICA(n_components=4) # note, sensitive to n_components\n",
    "icafit = icatemp.fit(patches1[0])\n",
    "\n",
    "ica_comp = icafit.components_\n",
    "# print('shape of the ica component"
   ]
  },
  {
   "cell_type": "code",
   "execution_count": 59,
   "metadata": {
    "collapsed": false
   },
   "outputs": [
    {
     "data": {
      "text/plain": [
       "<matplotlib.image.AxesImage at 0x18697f44dd8>"
      ]
     },
     "execution_count": 59,
     "metadata": {},
     "output_type": "execute_result"
    },
    {
     "data": {
      "image/png": "[encoded data removed]",
      "text/plain": [
       "<matplotlib.figure.Figure at 0x186987cd908>"
      ]
     },
     "metadata": {},
     "output_type": "display_data"
    }
   ],
   "source": [
    "plt.imshow(ica_comp)"
   ]
  },
  {
   "cell_type": "code",
   "execution_count": null,
   "metadata": {
    "collapsed": true
   },
   "outputs": [],
   "source": []
  }
 ],
 "metadata": {
  "kernelspec": {
   "display_name": "Python 3",
   "language": "python",
   "name": "python3"
  },
  "language_info": {
   "codemirror_mode": {
    "name": "ipython",
    "version": 3
   },
   "file_extension": ".py",
   "mimetype": "text/x-python",
   "name": "python",
   "nbconvert_exporter": "python",
   "pygments_lexer": "ipython3",
   "version": "3.6.0"
  }
 },
 "nbformat": 4,
 "nbformat_minor": 2
}

{
 "cells": [
  {
   "cell_type": "markdown",
   "metadata": {},
   "source": [
    "# Innate Binocular Visual Learning Project\n",
    "### Final Project for COMP 386: Computational Neuroscience\n",
    "#### Worked on by:\n",
    "- Sam Sendelbach\n",
    "- David Saffo\n",
    "- Mary Makarious\n",
    "\n",
    "#### Project Summary\n",
    "[Copy paste]"
   ]
  },
  {
   "cell_type": "markdown",
   "metadata": {},
   "source": [
    "---"
   ]
  },
  {
   "cell_type": "markdown",
   "metadata": {},
   "source": [
    "##### Necessary Packages to Import "
   ]
  },
  {
   "cell_type": "code",
   "execution_count": 4,
   "metadata": {
    "collapsed": true
   },
   "outputs": [],
   "source": [
    "from numpy import *\n",
    "import pylab\n",
    "import matplotlib.pyplot as plt\n",
    "import numpy as np\n",
    "from scipy import signal\n",
    "import matplotlib.image as mpimg\n",
    "from sklearn.decomposition import FastICA\n",
    "from sklearn.feature_extraction import image\n",
    "import PIL\n",
    "%matplotlib inline"
   ]
  },
  {
   "cell_type": "markdown",
   "metadata": {},
   "source": [
    "---"
   ]
  },
  {
   "cell_type": "markdown",
   "metadata": {},
   "source": [
    "##### [Insert Description Here]"
   ]
  },
  {
   "cell_type": "code",
   "execution_count": 5,
   "metadata": {
    "collapsed": true
   },
   "outputs": [],
   "source": [
    "def distance(x0, y0, x1, y1):\n",
    "  return sqrt(pow(x0-x1,2) + pow(y0-y1,2))\n",
    "\n",
    "class LGN: \n",
    "  \"\"\"\n",
    "  this class defines a model which generates binocular spontaneous activity\n",
    "  \"\"\"\n",
    "  \n",
    "  def __init__(self, width = 128, p = 0.5, r = 1.0, t = 1, trans = 0.0,\n",
    "    make_wave = True, num_layers=2, random_seed=0):\n",
    "    random.seed(random_seed)\n",
    "    self.width = width\n",
    "    self.p = p\n",
    "    self.r = r\n",
    "    self.t = t\n",
    "    self.trans = trans\n",
    "    self.num_layers = num_layers\n",
    "    if make_wave:\n",
    "      self.reset_wave()\n",
    "\n",
    "  def reset_wave(self):\n",
    "    \"\"\" create another random wave \"\"\"\n",
    "    # setting up the network\n",
    "    w = self.width\n",
    "    self.recruitable = random.rand(self.num_layers, w, w) < self.p\n",
    "    self.tot_recruitable = len(where(self.recruitable)[0])\n",
    "    self.tot_recruitable_active = 0\n",
    "    self.tot_active = 0\n",
    "    self.active = zeros([self.num_layers,w,w],bool)\n",
    "    self.active_neighbors = zeros([self.num_layers,w,w],int)\n",
    "    self.activated = []; # the recently active nodes\n",
    "    \n",
    "    if self.tot_recruitable > 0:\n",
    "      while self.fraction_active() < 0.2:\n",
    "        self.activate()  \n",
    "\n",
    "  def fraction_active(self):\n",
    "    \"\"\" returns the fraction of potentially recruitable cells which are active \"\"\"\n",
    "    if self.tot_recruitable > 0:\n",
    "      return float(self.tot_recruitable_active) / self.tot_recruitable\n",
    "    else:\n",
    "      return nan\n",
    "\n",
    "  def propagate(self):\n",
    "    \"\"\" propagate the activity if a valid node has been activated \"\"\"\n",
    "    # activated only has recruitable and currently inactive members\n",
    "    while len(self.activated) > 0:\n",
    "      act_l, act_x, act_y = self.activated.pop()\n",
    "      self.active[act_l,act_x,act_y] = True\n",
    "      self.tot_active += 1\n",
    "      self.tot_recruitable_active += 1\n",
    "      for l in range(self.num_layers):\n",
    "        for x in range(int(act_x-self.r),int(act_x+self.r+1)):\n",
    "          for y in range(int(act_y-self.r),int(act_y+self.r+1)):\n",
    "            if distance(act_x,act_y,x,y) <= self.r:\n",
    "              xi = x % self.width\n",
    "              yi = y % self.width\n",
    "              if l != act_l: # spread the activity across layers\n",
    "                if random.rand() < self.trans: # transfer the activity\n",
    "                  self.active_neighbors[l, xi,yi] += 1\n",
    "              else: # if it is the same layer\n",
    "                self.active_neighbors[l, xi,yi] += 1\n",
    "              if self.active_neighbors[l, xi,yi] == self.t and \\\n",
    "                not self.active[l, xi,yi]:\n",
    "                if self.recruitable[l, xi,yi]:\n",
    "                  self.activated.append([l, xi,yi])\n",
    "                else: # activate the node but don't propagate the activity\n",
    "                  self.active[l,xi,yi] = True\n",
    "                  self.tot_active += 1\n",
    "\n",
    "  def activate(self):\n",
    "    \"\"\" activate a random potentially active node \"\"\"\n",
    "    if self.fraction_active() > 0.95:\n",
    "      return\n",
    "      \n",
    "    # pick a random point\n",
    "    while True:\n",
    "      l = random.randint(0,self.num_layers)\n",
    "      x = random.randint(0,self.width)\n",
    "      y = random.randint(0,self.width)\n",
    "      if (self.recruitable[l,x,y] and not self.active[l,x,y]):\n",
    "        break\n",
    "    self.activated.append([l,x,y])\n",
    "    self.propagate()\n",
    "\n",
    "  def correlation(self):\n",
    "    \"\"\" returns the correlation between the left and right images \"\"\"\n",
    "    # the total number of activations in common\n",
    "    # same_count = len(where(self.active[0,:,:] == self.active[1,:,:])[0])\n",
    "    # return float(same_count) / (self.width * self.width)\n",
    "    \n",
    "    # create an activity matrix of 0's and 1's (instead of True and False)\n",
    "    if self.num_layers < 2:\n",
    "      print(\"monocular models cannot have correlations between eye layers\")\n",
    "      return 0\n",
    "    w = self.width\n",
    "    active01 = zeros([2,w,w],int)\n",
    "    active01[where(self.active)] = 1\n",
    "    \n",
    "    mean0 = active01[0,:,:].mean()\n",
    "    mean1 = active01[1,:,:].mean()\n",
    "    std0 = active01[0,:,:].std()\n",
    "    std1 = active01[1,:,:].std()\n",
    "    cov = ((active01[0,:,:] - mean0) * (active01[1,:,:] - mean1)).mean()\n",
    "    return cov / (std0 * std1)\n",
    "    \n",
    "    \n",
    "  def make_img_mat(self, show_img=True):\n",
    "    \"\"\" return a matrix of 1's and 0's showing the activity in both layers \"\"\"\n",
    "    img_array = zeros([self.num_layers,self.width,self.width])\n",
    "    border_width = 10 if self.num_layers > 1 else 0\n",
    "    w = self.width\n",
    "    for l in range(self.num_layers):\n",
    "        img = zeros([w, w], float)\n",
    "        for x in range(0,w-1):\n",
    "            for y in range(0,w-1):\n",
    "                if self.active[l,x,y]:\n",
    "                    img[x,y] = 1\n",
    "                    \n",
    "    \n",
    "        img_array[l] = img \n",
    "        if show_img:\n",
    "            plt.imshow(img)\n",
    "            plt.show()\n",
    "        \n",
    "    return img_array\n",
    "\n",
    "\n",
    "def linear_convolution(center, slide, plot=False): \n",
    "    if (center.shape != slide.shape):\n",
    "        return\n",
    "    padded_slide = np.zeros((center.shape[0],center.shape[1]*3))\n",
    "    padded_slide[0:,center.shape[1]:center.shape[1]*2] = center\n",
    "    estimate = np.empty([center.shape[1]*2])\n",
    "    for x in range(center.shape[1]*2):\n",
    "        dot = np.sum(padded_slide[0:,0+x:center.shape[1]+x] * slide)\n",
    "        estimate[x] = dot\n",
    "    \n",
    "    if plot:\n",
    "        plt.plot(np.abs(estimate))\n",
    "        plt.show()\n",
    "    #print(np.argmax(np.abs(estimate)))\n",
    "    #print('{:.20f}'.format(np.mean(np.abs(estimate))))\n",
    "    return np.mean(np.abs(estimate)),np.argmax(np.abs(estimate))\n"
   ]
  },
  {
   "cell_type": "markdown",
   "metadata": {},
   "source": [
    "##### [Description Here]"
   ]
  },
  {
   "cell_type": "markdown",
   "metadata": {
    "collapsed": true
   },
   "source": [
    "#### Parameters \n",
    "- p = recrutable cells (cell spacing, chemical inhibition, recovery speed)\n",
    "- r = similar to \"dendritic field size\" (radius)\n",
    "- t = threshold (how many neighbors are are needed to activate)\n",
    "- trans = probability of transmitting activity from one eye layer to the next (cross-talk between layers)"
   ]
  },
  {
   "cell_type": "code",
   "execution_count": 43,
   "metadata": {},
   "outputs": [
    {
     "name": "stdout",
     "output_type": "stream",
     "text": [
      "(47, 16, 16)\n"
     ]
    }
   ],
   "source": [
    "from random import randint\n",
    "patches_1 = []\n",
    "patches_2 = []\n",
    "\n",
    "image_size = 128\n",
    "for n in range(2):\n",
    "    seed = randint(1,100)\n",
    "    L = LGN(width = image_size, p = 0.7, r = 1.90, t = 4, trans = 0.8, make_wave = True, num_layers=2, random_seed=seed)\n",
    "    images = L.make_img_mat(show_img=False)\n",
    "    \n",
    "    patch_size = 16\n",
    "    \n",
    "    for x in (range(image_size // patch_size)):\n",
    "        for y in (range(image_size // patch_size)):\n",
    "            x_pos = x*patch_size\n",
    "            y_pos = y*patch_size\n",
    "            \n",
    "            patches_1.append(images[0][x_pos:x_pos+patch_size,y_pos:y_pos+patch_size])\n",
    "            patches_2.append(images[1][x_pos:x_pos+patch_size,y_pos:y_pos+patch_size])\n",
    "    \n",
    "\n",
    "    \n",
    "patches_1 = np.array(patches_1)\n",
    "patches_2 = np.array(patches_2)\n",
    "\n",
    "\n",
    "\n",
    "blacklist = []\n",
    "\n",
    "for x in range(0,patches_1.shape[0]):\n",
    "    if patches_1[x].std() == 0.0:\n",
    "        blacklist.append(x)\n",
    "        continue\n",
    "            #add to black list\n",
    "    \n",
    "    if patches_2[x].std() == 0.0:\n",
    "        blacklist.append(x)\n",
    "        #add to black list\n",
    "\n",
    "blacklist = np.array(blacklist)\n",
    "if (blacklist.shape[0] != 0):\n",
    "    patches_1 = np.delete(patches_1, blacklist, axis=0)\n",
    "    patches_2 = np.delete(patches_2, blacklist, axis=0)\n",
    "        #removes boring patches!\n",
    "    \n",
    "\n",
    "                                      \n",
    "print(patches_1.shape)"
   ]
  },
  {
   "cell_type": "code",
   "execution_count": 38,
   "metadata": {},
   "outputs": [
    {
     "name": "stderr",
     "output_type": "stream",
     "text": [
      "/anaconda/lib/python3.6/site-packages/sklearn/decomposition/fastica_.py:296: UserWarning: n_components is too large: it will be set to 50\n",
      "  warnings.warn('n_components is too large: it will be set to %s' % n_components)\n",
      "/anaconda/lib/python3.6/site-packages/sklearn/decomposition/fastica_.py:116: UserWarning: FastICA did not converge. Consider increasing tolerance or the maximum number of iterations.\n",
      "  warnings.warn('FastICA did not converge. Consider increasing '\n"
     ]
    },
    {
     "data": {
      "text/plain": [
       "(50, 512)"
      ]
     },
     "execution_count": 38,
     "metadata": {},
     "output_type": "execute_result"
    }
   ],
   "source": [
    "reshaped_patches_1 = patches_1.reshape(-1,patch_size**2)\n",
    "reshaped_patches_2 = patches_2.reshape(-1,patch_size**2)\n",
    "composite_patches = np.concatenate((reshaped_patches_1,reshaped_patches_2),axis=1)\n",
    "n_ica_components = 100\n",
    "\n",
    "\n",
    "icatemp = FastICA(n_components=n_ica_components, random_state=1) # note, sensitive to n_components\n",
    "icafit_1 = icatemp.fit(composite_patches)\n",
    "ica_comp_1 = icafit_1.components_\n",
    "\n",
    "#icafit_2 = icatemp.fit(reshaped_patches_2)\n",
    "#ica_comp_2 = icafit_2.components_\n",
    "\n",
    "\n",
    "#np.array_equal(ica_comp_1,ica_comp_2)\n",
    "ica_comp_1.shape\n"
   ]
  },
  {
   "cell_type": "code",
   "execution_count": 39,
   "metadata": {
    "collapsed": true
   },
   "outputs": [],
   "source": [
    "first_eye = ica_comp_1[:,0:patch_size**2]\n",
    "second_eye = ica_comp_1[:,patch_size**2:]"
   ]
  },
  {
   "cell_type": "code",
   "execution_count": 40,
   "metadata": {},
   "outputs": [
    {
     "data": {
      "image/png": "[encoded data removed]",
      "text/plain": [
       "<matplotlib.figure.Figure at 0x10c7ca9b0>"
      ]
     },
     "metadata": {},
     "output_type": "display_data"
    },
    {
     "data": {
      "image/png": "[encoded data removed]",
      "text/plain": [
       "<matplotlib.figure.Figure at 0x1038b20b8>"
      ]
     },
     "metadata": {},
     "output_type": "display_data"
    },
    {
     "name": "stdout",
     "output_type": "stream",
     "text": [
      "peak is at: 16.000000\n"
     ]
    }
   ],
   "source": [
    "results_1 = first_eye.reshape(-1,patch_size, patch_size)\n",
    "results_2 = second_eye.reshape(-1,patch_size,patch_size)\n",
    "\n",
    "\n",
    "\n",
    "sample = 1\n",
    "composite_result = np.concatenate((results_1[sample],results_2[sample]),axis=1)\n",
    "\n",
    "\n",
    "plt.imshow(composite_result)\n",
    "plt.show()\n",
    "\n",
    "\n",
    "mean, peak = linear_convolution(results_1[sample], results_2[sample],plot=True)\n",
    "print(\"peak is at: %f\" %peak)\n"
   ]
  },
  {
   "cell_type": "code",
   "execution_count": 41,
   "metadata": {},
   "outputs": [
    {
     "name": "stdout",
     "output_type": "stream",
     "text": [
      "3.82\n",
      "6.36666666667\n",
      "30\n"
     ]
    }
   ],
   "source": [
    "long_sum = 0\n",
    "selective_sum = 0\n",
    "num_disp = 0\n",
    "\n",
    "for x in range(0,results_1.shape[0]):\n",
    "    avg, maxi = linear_convolution(results_1[x], results_2[x])\n",
    "    long_sum += abs(maxi - patch_size)\n",
    "    if (abs(maxi - patch_size) != 0.0):\n",
    "        num_disp = num_disp + 1\n",
    "        selective_sum += abs(maxi - patch_size)\n",
    "print(long_sum/results_1.shape[0])\n",
    "if (num_disp > 0):\n",
    "    print(selective_sum/num_disp)\n",
    "\n",
    "print(num_disp)\n",
    "\n"
   ]
  },
  {
   "cell_type": "code",
   "execution_count": 42,
   "metadata": {},
   "outputs": [
    {
     "data": {
      "image/png": "[encoded data removed]",
      "text/plain": [
       "<matplotlib.figure.Figure at 0x10cbb3710>"
      ]
     },
     "metadata": {},
     "output_type": "display_data"
    }
   ],
   "source": [
    "L = LGN(width = 128, p = 0.7, r = 1.90, t = 4, trans = 0.5, make_wave = True, num_layers=2, random_seed=seed)\n",
    "images = L.make_img_mat(show_img=False)\n",
    "\n",
    "diff = np.subtract(images[0],images[1])\n",
    "plt.imshow(diff)\n",
    "plt.show()"
   ]
  },
  {
   "cell_type": "code",
   "execution_count": null,
   "metadata": {
    "collapsed": true
   },
   "outputs": [],
   "source": []
  }
 ],
 "metadata": {
  "kernelspec": {
   "display_name": "Python 3",
   "language": "python",
   "name": "python3"
  },
  "language_info": {
   "codemirror_mode": {
    "name": "ipython",
    "version": 3
   },
   "file_extension": ".py",
   "mimetype": "text/x-python",
   "name": "python",
   "nbconvert_exporter": "python",
   "pygments_lexer": "ipython3",
   "version": "3.6.1"
  }
 },
 "nbformat": 4,
 "nbformat_minor": 2
}

{
 "cells": [
  {
   "cell_type": "code",
   "execution_count": 1,
   "metadata": {
    "collapsed": true
   },
   "outputs": [],
   "source": [
    "from numpy import *\n",
    "import pylab\n",
    "import matplotlib.pyplot as plt\n",
    "\n",
    "\n",
    "\n",
    "def distance(x0, y0, x1, y1):\n",
    "  return sqrt(pow(x0-x1,2) + pow(y0-y1,2))\n",
    "\n",
    "class LGN: \n",
    "  \"\"\"\n",
    "  this class defines a model which generates binocular spontaneous activity\n",
    "  \"\"\"\n",
    "  \n",
    "  def __init__(self, width = 128, p = 0.5, r = 1.0, t = 1, trans = 0.0,\n",
    "    make_wave = True, num_layers=2, random_seed=0):\n",
    "    random.seed(random_seed)\n",
    "    self.width = width\n",
    "    self.p = p\n",
    "    self.r = r\n",
    "    self.t = t\n",
    "    self.trans = trans\n",
    "    self.num_layers = num_layers\n",
    "    if make_wave:\n",
    "      self.reset_wave()\n",
    "\n",
    "  def reset_wave(self):\n",
    "    \"\"\" create another random wave \"\"\"\n",
    "    # setting up the network\n",
    "    w = self.width\n",
    "    self.recruitable = random.rand(self.num_layers, w, w) < self.p\n",
    "    self.tot_recruitable = len(where(self.recruitable)[0])\n",
    "    self.tot_recruitable_active = 0\n",
    "    self.tot_active = 0\n",
    "    self.active = zeros([self.num_layers,w,w],bool)\n",
    "    self.active_neighbors = zeros([self.num_layers,w,w],int)\n",
    "    self.activated = []; # the recently active nodes\n",
    "    \n",
    "    if self.tot_recruitable > 0:\n",
    "      while self.fraction_active() < 0.2:\n",
    "        self.activate()  \n",
    "\n",
    "  def fraction_active(self):\n",
    "    \"\"\" returns the fraction of potentially recruitable cells which are active \"\"\"\n",
    "    if self.tot_recruitable > 0:\n",
    "      return float(self.tot_recruitable_active) / self.tot_recruitable\n",
    "    else:\n",
    "      return nan\n",
    "\n",
    "  def propagate(self):\n",
    "    \"\"\" propagate the activity if a valid node has been activated \"\"\"\n",
    "    # activated only has recruitable and currently inactive members\n",
    "    while len(self.activated) > 0:\n",
    "      act_l, act_x, act_y = self.activated.pop()\n",
    "      self.active[act_l,act_x,act_y] = True\n",
    "      self.tot_active += 1\n",
    "      self.tot_recruitable_active += 1\n",
    "      for l in range(self.num_layers):\n",
    "        for x in range(int(act_x-self.r),int(act_x+self.r+1)):\n",
    "          for y in range(int(act_y-self.r),int(act_y+self.r+1)):\n",
    "            if distance(act_x,act_y,x,y) <= self.r:\n",
    "              xi = x % self.width\n",
    "              yi = y % self.width\n",
    "              if l != act_l: # spread the activity across layers\n",
    "                if random.rand() < self.trans: # transfer the activity\n",
    "                  self.active_neighbors[l, xi,yi] += 1\n",
    "              else: # if it is the same layer\n",
    "                self.active_neighbors[l, xi,yi] += 1\n",
    "              if self.active_neighbors[l, xi,yi] == self.t and \\\n",
    "                not self.active[l, xi,yi]:\n",
    "                if self.recruitable[l, xi,yi]:\n",
    "                  self.activated.append([l, xi,yi])\n",
    "                else: # activate the node but don't propagate the activity\n",
    "                  self.active[l,xi,yi] = True\n",
    "                  self.tot_active += 1\n",
    "\n",
    "  def activate(self):\n",
    "    \"\"\" activate a random potentially active node \"\"\"\n",
    "    if self.fraction_active() > 0.95:\n",
    "      return\n",
    "      \n",
    "    # pick a random point\n",
    "    while True:\n",
    "      l = random.randint(0,self.num_layers)\n",
    "      x = random.randint(0,self.width)\n",
    "      y = random.randint(0,self.width)\n",
    "      if (self.recruitable[l,x,y] and not self.active[l,x,y]):\n",
    "        break\n",
    "    self.activated.append([l,x,y])\n",
    "    self.propagate()\n",
    "\n",
    "  def correlation(self):\n",
    "    \"\"\" returns the correlation between the left and right images \"\"\"\n",
    "    # the total number of activations in common\n",
    "    # same_count = len(where(self.active[0,:,:] == self.active[1,:,:])[0])\n",
    "    # return float(same_count) / (self.width * self.width)\n",
    "    \n",
    "    # create an activity matrix of 0's and 1's (instead of True and False)\n",
    "    if self.num_layers < 2:\n",
    "      print(\"monocular models cannot have correlations between eye layers\")\n",
    "      return 0\n",
    "    w = self.width\n",
    "    active01 = zeros([2,w,w],int)\n",
    "    active01[where(self.active)] = 1\n",
    "    \n",
    "    mean0 = active01[0,:,:].mean()\n",
    "    mean1 = active01[1,:,:].mean()\n",
    "    std0 = active01[0,:,:].std()\n",
    "    std1 = active01[1,:,:].std()\n",
    "    cov = ((active01[0,:,:] - mean0) * (active01[1,:,:] - mean1)).mean()\n",
    "    return cov / (std0 * std1)\n",
    "    \n",
    "    \n",
    "  def make_img_mat(self, show_img=True):\n",
    "    \"\"\" return a matrix of 1's and 0's showing the activity in both layers \"\"\"\n",
    "    img_array = zeros([self.num_layers,self.width,self.width])\n",
    "    border_width = 10 if self.num_layers > 1 else 0\n",
    "    w = self.width\n",
    "    for l in range(self.num_layers):\n",
    "        img = zeros([w, w], float)\n",
    "        for x in range(0,w-1):\n",
    "            for y in range(0,w-1):\n",
    "                if self.active[l,x,y]:\n",
    "                    img[x,y] = 1\n",
    "                    \n",
    "    \n",
    "        img_array[l] = img         \n",
    "        plt.imshow(img)\n",
    "        plt.show()\n",
    "        \n",
    "    return img_array\n"
   ]
  },
  {
   "cell_type": "code",
   "execution_count": 6,
   "metadata": {},
   "outputs": [
    {
     "data": {
      "image/png": "[encoded data removed]",
      "text/plain": [
       "<matplotlib.figure.Figure at 0x10e18c128>"
      ]
     },
     "metadata": {},
     "output_type": "display_data"
    },
    {
     "data": {
      "image/png": "[encoded data removed]",
      "text/plain": [
       "<matplotlib.figure.Figure at 0x118d67c18>"
      ]
     },
     "metadata": {},
     "output_type": "display_data"
    },
    {
     "data": {
      "text/plain": [
       "array([[[ 0.,  1.,  1., ...,  0.,  0.,  0.],\n",
       "        [ 0.,  1.,  1., ...,  1.,  0.,  0.],\n",
       "        [ 0.,  1.,  1., ...,  1.,  1.,  0.],\n",
       "        ..., \n",
       "        [ 1.,  1.,  1., ...,  0.,  0.,  0.],\n",
       "        [ 1.,  1.,  1., ...,  0.,  0.,  0.],\n",
       "        [ 0.,  0.,  0., ...,  0.,  0.,  0.]],\n",
       "\n",
       "       [[ 0.,  1.,  1., ...,  0.,  0.,  0.],\n",
       "        [ 0.,  1.,  1., ...,  1.,  1.,  0.],\n",
       "        [ 0.,  1.,  1., ...,  1.,  1.,  0.],\n",
       "        ..., \n",
       "        [ 1.,  1.,  1., ...,  0.,  0.,  0.],\n",
       "        [ 1.,  1.,  1., ...,  0.,  0.,  0.],\n",
       "        [ 0.,  0.,  0., ...,  0.,  0.,  0.]]])"
      ]
     },
     "execution_count": 6,
     "metadata": {},
     "output_type": "execute_result"
    }
   ],
   "source": [
    "L = LGN(width = 128, p = 0.2, r = 1.5, t = 1, trans = 0.5, make_wave = True, num_layers=2, random_seed=5)\n",
    "L.make_img_mat()"
   ]
  },
  {
   "cell_type": "markdown",
   "metadata": {
    "collapsed": true
   },
   "source": [
    "p = recrutable cells (cell spacing, chemical inhibition, recovery speed)\n",
    "r = similar to \"dendritic field size\" (radius)\n",
    "t = threshold (how many neighbors are are needed to activate)\n",
    "trans = probability of transmitting activity from one eye layer to the next (cross-talk between layers)"
   ]
  }
 ],
 "metadata": {
  "kernelspec": {
   "display_name": "Python 3",
   "language": "python",
   "name": "python3"
  },
  "language_info": {
   "codemirror_mode": {
    "name": "ipython",
    "version": 3
   },
   "file_extension": ".py",
   "mimetype": "text/x-python",
   "name": "python",
   "nbconvert_exporter": "python",
   "pygments_lexer": "ipython3",
   "version": "3.6.1"
  }
 },
 "nbformat": 4,
 "nbformat_minor": 2
}

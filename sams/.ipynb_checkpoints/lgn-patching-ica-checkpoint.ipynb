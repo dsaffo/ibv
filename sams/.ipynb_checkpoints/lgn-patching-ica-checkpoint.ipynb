{
 "cells": [
  {
   "cell_type": "markdown",
   "metadata": {},
   "source": [
    "# Innate Binocular Visual Learning Project\n",
    "### Final Project for COMP 386: Computational Neuroscience\n",
    "#### Worked on by:\n",
    "- Sam Sendelbach\n",
    "- David Saffo\n",
    "- Mary Makarious\n",
    "\n",
    "#### Project Summary\n",
    "[Copy paste]"
   ]
  },
  {
   "cell_type": "markdown",
   "metadata": {},
   "source": [
    "---"
   ]
  },
  {
   "cell_type": "markdown",
   "metadata": {},
   "source": [
    "##### Necessary Packages to Import "
   ]
  },
  {
   "cell_type": "code",
   "execution_count": 1,
   "metadata": {
    "collapsed": true
   },
   "outputs": [],
   "source": [
    "from numpy import *\n",
    "import pylab\n",
    "import matplotlib.pyplot as plt\n",
    "import numpy as np\n",
    "import matplotlib.image as mpimg\n",
    "import PIL\n",
    "%matplotlib inline"
   ]
  },
  {
   "cell_type": "markdown",
   "metadata": {},
   "source": [
    "---"
   ]
  },
  {
   "cell_type": "markdown",
   "metadata": {},
   "source": [
    "##### [Insert Description Here]"
   ]
  },
  {
   "cell_type": "code",
   "execution_count": 2,
   "metadata": {
    "collapsed": true
   },
   "outputs": [],
   "source": [
    "def distance(x0, y0, x1, y1):\n",
    "  return sqrt(pow(x0-x1,2) + pow(y0-y1,2))\n",
    "\n",
    "class LGN: \n",
    "  \"\"\"\n",
    "  this class defines a model which generates binocular spontaneous activity\n",
    "  \"\"\"\n",
    "  \n",
    "  def __init__(self, width = 128, p = 0.5, r = 1.0, t = 1, trans = 0.0,\n",
    "    make_wave = True, num_layers=2, random_seed=0):\n",
    "    random.seed(random_seed)\n",
    "    self.width = width\n",
    "    self.p = p\n",
    "    self.r = r\n",
    "    self.t = t\n",
    "    self.trans = trans\n",
    "    self.num_layers = num_layers\n",
    "    if make_wave:\n",
    "      self.reset_wave()\n",
    "\n",
    "  def reset_wave(self):\n",
    "    \"\"\" create another random wave \"\"\"\n",
    "    # setting up the network\n",
    "    w = self.width\n",
    "    self.recruitable = random.rand(self.num_layers, w, w) < self.p\n",
    "    self.tot_recruitable = len(where(self.recruitable)[0])\n",
    "    self.tot_recruitable_active = 0\n",
    "    self.tot_active = 0\n",
    "    self.active = zeros([self.num_layers,w,w],bool)\n",
    "    self.active_neighbors = zeros([self.num_layers,w,w],int)\n",
    "    self.activated = []; # the recently active nodes\n",
    "    \n",
    "    if self.tot_recruitable > 0:\n",
    "      while self.fraction_active() < 0.2:\n",
    "        self.activate()  \n",
    "\n",
    "  def fraction_active(self):\n",
    "    \"\"\" returns the fraction of potentially recruitable cells which are active \"\"\"\n",
    "    if self.tot_recruitable > 0:\n",
    "      return float(self.tot_recruitable_active) / self.tot_recruitable\n",
    "    else:\n",
    "      return nan\n",
    "\n",
    "  def propagate(self):\n",
    "    \"\"\" propagate the activity if a valid node has been activated \"\"\"\n",
    "    # activated only has recruitable and currently inactive members\n",
    "    while len(self.activated) > 0:\n",
    "      act_l, act_x, act_y = self.activated.pop()\n",
    "      self.active[act_l,act_x,act_y] = True\n",
    "      self.tot_active += 1\n",
    "      self.tot_recruitable_active += 1\n",
    "      for l in range(self.num_layers):\n",
    "        for x in range(int(act_x-self.r),int(act_x+self.r+1)):\n",
    "          for y in range(int(act_y-self.r),int(act_y+self.r+1)):\n",
    "            if distance(act_x,act_y,x,y) <= self.r:\n",
    "              xi = x % self.width\n",
    "              yi = y % self.width\n",
    "              if l != act_l: # spread the activity across layers\n",
    "                if random.rand() < self.trans: # transfer the activity\n",
    "                  self.active_neighbors[l, xi,yi] += 1\n",
    "              else: # if it is the same layer\n",
    "                self.active_neighbors[l, xi,yi] += 1\n",
    "              if self.active_neighbors[l, xi,yi] == self.t and \\\n",
    "                not self.active[l, xi,yi]:\n",
    "                if self.recruitable[l, xi,yi]:\n",
    "                  self.activated.append([l, xi,yi])\n",
    "                else: # activate the node but don't propagate the activity\n",
    "                  self.active[l,xi,yi] = True\n",
    "                  self.tot_active += 1\n",
    "\n",
    "  def activate(self):\n",
    "    \"\"\" activate a random potentially active node \"\"\"\n",
    "    if self.fraction_active() > 0.95:\n",
    "      return\n",
    "      \n",
    "    # pick a random point\n",
    "    while True:\n",
    "      l = random.randint(0,self.num_layers)\n",
    "      x = random.randint(0,self.width)\n",
    "      y = random.randint(0,self.width)\n",
    "      if (self.recruitable[l,x,y] and not self.active[l,x,y]):\n",
    "        break\n",
    "    self.activated.append([l,x,y])\n",
    "    self.propagate()\n",
    "\n",
    "  def correlation(self):\n",
    "    \"\"\" returns the correlation between the left and right images \"\"\"\n",
    "    # the total number of activations in common\n",
    "    # same_count = len(where(self.active[0,:,:] == self.active[1,:,:])[0])\n",
    "    # return float(same_count) / (self.width * self.width)\n",
    "    \n",
    "    # create an activity matrix of 0's and 1's (instead of True and False)\n",
    "    if self.num_layers < 2:\n",
    "      print(\"monocular models cannot have correlations between eye layers\")\n",
    "      return 0\n",
    "    w = self.width\n",
    "    active01 = zeros([2,w,w],int)\n",
    "    active01[where(self.active)] = 1\n",
    "    \n",
    "    mean0 = active01[0,:,:].mean()\n",
    "    mean1 = active01[1,:,:].mean()\n",
    "    std0 = active01[0,:,:].std()\n",
    "    std1 = active01[1,:,:].std()\n",
    "    cov = ((active01[0,:,:] - mean0) * (active01[1,:,:] - mean1)).mean()\n",
    "    return cov / (std0 * std1)\n",
    "    \n",
    "    \n",
    "  def make_img_mat(self, show_img=True):\n",
    "    \"\"\" return a matrix of 1's and 0's showing the activity in both layers \"\"\"\n",
    "    img_array = zeros([self.num_layers,self.width,self.width])\n",
    "    border_width = 10 if self.num_layers > 1 else 0\n",
    "    w = self.width\n",
    "    for l in range(self.num_layers):\n",
    "        img = zeros([w, w], float)\n",
    "        for x in range(0,w-1):\n",
    "            for y in range(0,w-1):\n",
    "                if self.active[l,x,y]:\n",
    "                    img[x,y] = 1\n",
    "                    \n",
    "    \n",
    "        img_array[l] = img         \n",
    "        plt.imshow(img)\n",
    "        plt.show()\n",
    "        \n",
    "    return img_array\n"
   ]
  },
  {
   "cell_type": "markdown",
   "metadata": {},
   "source": [
    "##### [Description Here]"
   ]
  },
  {
   "cell_type": "code",
   "execution_count": 63,
   "metadata": {},
   "outputs": [
    {
     "data": {
      "image/png": "[encoded data removed]",
      "text/plain": [
       "<matplotlib.figure.Figure at 0x115294cc0>"
      ]
     },
     "metadata": {},
     "output_type": "display_data"
    },
    {
     "data": {
      "image/png": "[encoded data removed]",
      "text/plain": [
       "<matplotlib.figure.Figure at 0x111af84e0>"
      ]
     },
     "metadata": {},
     "output_type": "display_data"
    }
   ],
   "source": [
    "L = LGN(width = 128, p = .2, r = 1.5, t = 1, trans = 1.0, make_wave = True, num_layers=2, random_seed=5)\n",
    "#r=2.9 trans=0.1\n",
    "images = L.make_img_mat()"
   ]
  },
  {
   "cell_type": "markdown",
   "metadata": {
    "collapsed": true
   },
   "source": [
    "#### Parameters \n",
    "- p = recrutable cells (cell spacing, chemical inhibition, recovery speed)\n",
    "- r = similar to \"dendritic field size\" (radius)\n",
    "- t = threshold (how many neighbors are are needed to activate)\n",
    "- trans = probability of transmitting activity from one eye layer to the next (cross-talk between layers)"
   ]
  },
  {
   "cell_type": "markdown",
   "metadata": {},
   "source": [
    "---"
   ]
  },
  {
   "cell_type": "code",
   "execution_count": 64,
   "metadata": {
    "collapsed": true
   },
   "outputs": [],
   "source": [
    "from sklearn.feature_extraction import image\n",
    "\n",
    "patches1 = image.extract_patches_2d(images[0], (16, 16))\n",
    "patches2 = image.extract_patches_2d(images[1], (16, 16))"
   ]
  },
  {
   "cell_type": "code",
   "execution_count": 42,
   "metadata": {},
   "outputs": [
    {
     "data": {
      "text/plain": [
       "12769"
      ]
     },
     "execution_count": 42,
     "metadata": {},
     "output_type": "execute_result"
    }
   ],
   "source": [
    "len(patches2)"
   ]
  },
  {
   "cell_type": "code",
   "execution_count": 43,
   "metadata": {},
   "outputs": [
    {
     "data": {
      "text/plain": [
       "<matplotlib.image.AxesImage at 0x115308438>"
      ]
     },
     "execution_count": 43,
     "metadata": {},
     "output_type": "execute_result"
    },
    {
     "data": {
      "image/png": "[encoded data removed]",
      "text/plain": [
       "<matplotlib.figure.Figure at 0x11ed59828>"
      ]
     },
     "metadata": {},
     "output_type": "display_data"
    }
   ],
   "source": [
    "plt.imshow(patches1[0])"
   ]
  },
  {
   "cell_type": "code",
   "execution_count": 25,
   "metadata": {
    "collapsed": true
   },
   "outputs": [],
   "source": [
    "from mpl_toolkits.axes_grid1 import AxesGrid\n",
    "\n",
    "def grid(fig, patches):\n",
    "    grid = AxesGrid(fig, 110,  # similar to subplot(141)\n",
    "                    nrows_ncols=(5, 5), # Number of columns and rows\n",
    "                    axes_pad=0.3, # Distance between grids\n",
    "                    label_mode=\"all\"\n",
    "                    )\n",
    "\n",
    "    Z = patches[0:25]\n",
    "    for i in range(25):\n",
    "        im = grid[i].imshow(Z[i], interpolation=\"nearest\")\n",
    "\n",
    "\n",
    "# Need to turn off plt.axis "
   ]
  },
  {
   "cell_type": "code",
   "execution_count": 26,
   "metadata": {
    "scrolled": false
   },
   "outputs": [
    {
     "data": {
      "image/png": "[encoded data removed]",
      "text/plain": [
       "<matplotlib.figure.Figure at 0x116acf9e8>"
      ]
     },
     "metadata": {},
     "output_type": "display_data"
    }
   ],
   "source": [
    "F = plt.figure(1, (20, 10))\n",
    "F.subplots_adjust(left=0.05, right=0.95)\n",
    "\n",
    "grid(F, patches1)\n",
    "\n",
    "# Need to turn off plt.axis "
   ]
  },
  {
   "cell_type": "code",
   "execution_count": 27,
   "metadata": {},
   "outputs": [
    {
     "data": {
      "image/png": "[encoded data removed]",
      "text/plain": [
       "<matplotlib.figure.Figure at 0x1126446a0>"
      ]
     },
     "metadata": {},
     "output_type": "display_data"
    }
   ],
   "source": [
    "F = plt.figure(1, (20, 10))\n",
    "F.subplots_adjust(left=0.05, right=0.95)\n",
    "\n",
    "grid(F, patches2)"
   ]
  },
  {
   "cell_type": "code",
   "execution_count": 28,
   "metadata": {
    "collapsed": true
   },
   "outputs": [],
   "source": [
    "def grid2(fig, patches):\n",
    "    grid = AxesGrid(fig, 110,  # similar to subplot(141)\n",
    "                    nrows_ncols=(4, 4), # Number of columns and rows\n",
    "                    axes_pad=0.3, # Distance between grids\n",
    "                    label_mode=\"all\"\n",
    "                    )\n",
    "\n",
    "    Z = patches[0:16]\n",
    "    for i in range(16):\n",
    "        im = grid[i].imshow(Z[i], interpolation=\"nearest\")\n",
    "\n",
    "\n",
    "# Need to turn off plt.axis "
   ]
  },
  {
   "cell_type": "code",
   "execution_count": 55,
   "metadata": {
    "collapsed": true
   },
   "outputs": [],
   "source": [
    "from sklearn.decomposition import FastICA"
   ]
  },
  {
   "cell_type": "code",
   "execution_count": 56,
   "metadata": {},
   "outputs": [],
   "source": [
    "numb_components = 60"
   ]
  },
  {
   "cell_type": "code",
   "execution_count": 57,
   "metadata": {},
   "outputs": [
    {
     "data": {
      "text/plain": [
       "False"
      ]
     },
     "execution_count": 57,
     "metadata": {},
     "output_type": "execute_result"
    }
   ],
   "source": [
    "np.array_equal(patches1,patches2)"
   ]
  },
  {
   "cell_type": "code",
   "execution_count": 65,
   "metadata": {},
   "outputs": [],
   "source": [
    "patches1_c = patches1.reshape(-1,patches1.shape[1]*patches1.shape[1])\n",
    "\n",
    "icatemp = FastICA(n_components=numb_components, random_state=1) # note, sensitive to n_components\n",
    "icafit_1 = icatemp.fit(patches1_c)\n",
    "ica_comp_1 = icafit_1.components_\n",
    "\n",
    "\n",
    "\n",
    "\n",
    "\n",
    "# print('shape of the ica component"
   ]
  },
  {
   "cell_type": "code",
   "execution_count": 66,
   "metadata": {
    "collapsed": true
   },
   "outputs": [],
   "source": [
    "patches2_c = patches2.reshape(-1,patches2.shape[1]*patches2.shape[1])\n",
    "\n",
    "icafit_2 = icatemp.fit(patches2_c)\n",
    "ica_comp_2 = icafit_2.components_\n"
   ]
  },
  {
   "cell_type": "code",
   "execution_count": 67,
   "metadata": {},
   "outputs": [
    {
     "data": {
      "text/plain": [
       "True"
      ]
     },
     "execution_count": 67,
     "metadata": {},
     "output_type": "execute_result"
    }
   ],
   "source": [
    "np.array_equal(ica_comp_1,ica_comp_2)"
   ]
  },
  {
   "cell_type": "code",
   "execution_count": 68,
   "metadata": {
    "collapsed": true
   },
   "outputs": [],
   "source": [
    "from scipy import signal"
   ]
  },
  {
   "cell_type": "code",
   "execution_count": 69,
   "metadata": {},
   "outputs": [
    {
     "data": {
      "image/png": "[encoded data removed]",
      "text/plain": [
       "<matplotlib.figure.Figure at 0x111ae8d30>"
      ]
     },
     "metadata": {},
     "output_type": "display_data"
    },
    {
     "data": {
      "image/png": "[encoded data removed]",
      "text/plain": [
       "<matplotlib.figure.Figure at 0x11031fe80>"
      ]
     },
     "metadata": {},
     "output_type": "display_data"
    },
    {
     "data": {
      "image/png": "[encoded data removed]",
      "text/plain": [
       "<matplotlib.figure.Figure at 0x1152db390>"
      ]
     },
     "metadata": {},
     "output_type": "display_data"
    },
    {
     "data": {
      "image/png": "[encoded data removed]",
      "text/plain": [
       "<matplotlib.figure.Figure at 0x110333630>"
      ]
     },
     "metadata": {},
     "output_type": "display_data"
    },
    {
     "data": {
      "image/png": "[encoded data removed]",
      "text/plain": [
       "<matplotlib.figure.Figure at 0x1131fd860>"
      ]
     },
     "metadata": {},
     "output_type": "display_data"
    },
    {
     "name": "stdout",
     "output_type": "stream",
     "text": [
      "16\n"
     ]
    }
   ],
   "source": [
    "r_1 = ica_comp_1.reshape(-1,16,16)\n",
    "r_2 = ica_comp_2.reshape(-1,16,16)\n",
    "\n",
    "\n",
    "num = 5\n",
    "plt.imshow(r_1[num])\n",
    "plt.show()\n",
    "\n",
    "plt.imshow(r_2[num])\n",
    "plt.show()\n",
    "\n",
    "plt.imshow(patches1[0])\n",
    "plt.show()\n",
    "plt.imshow(patches2[0])\n",
    "plt.show()\n",
    "\n",
    "lin_1 = linear_convolution(r_1[num], r_2[num])\n"
   ]
  },
  {
   "cell_type": "code",
   "execution_count": 37,
   "metadata": {},
   "outputs": [
    {
     "name": "stdout",
     "output_type": "stream",
     "text": [
      "(12769, 16, 16)\n"
     ]
    },
    {
     "ename": "ValueError",
     "evalue": "cannot reshape array of size 3268864 into shape (1018081,256)",
     "output_type": "error",
     "traceback": [
      "\u001b[0;31m---------------------------------------------------------------------------\u001b[0m",
      "\u001b[0;31mValueError\u001b[0m                                Traceback (most recent call last)",
      "\u001b[0;32m<ipython-input-37-cd37d179cca0>\u001b[0m in \u001b[0;36m<module>\u001b[0;34m()\u001b[0m\n\u001b[1;32m      1\u001b[0m \u001b[0mprint\u001b[0m\u001b[0;34m(\u001b[0m\u001b[0mpatches1\u001b[0m\u001b[0;34m.\u001b[0m\u001b[0mshape\u001b[0m\u001b[0;34m)\u001b[0m\u001b[0;34m\u001b[0m\u001b[0m\n\u001b[0;32m----> 2\u001b[0;31m \u001b[0mnew\u001b[0m \u001b[0;34m=\u001b[0m \u001b[0mpatches1\u001b[0m\u001b[0;34m.\u001b[0m\u001b[0mreshape\u001b[0m\u001b[0;34m(\u001b[0m\u001b[0;36m1018081\u001b[0m\u001b[0;34m,\u001b[0m\u001b[0;36m256\u001b[0m\u001b[0;34m)\u001b[0m\u001b[0;34m\u001b[0m\u001b[0m\n\u001b[0m\u001b[1;32m      3\u001b[0m \u001b[0mnew\u001b[0m \u001b[0;34m=\u001b[0m \u001b[0mnew\u001b[0m\u001b[0;34m.\u001b[0m\u001b[0mT\u001b[0m\u001b[0;34m\u001b[0m\u001b[0m\n\u001b[1;32m      4\u001b[0m \u001b[0mprint\u001b[0m\u001b[0;34m(\u001b[0m\u001b[0mnew\u001b[0m\u001b[0;34m.\u001b[0m\u001b[0mshape\u001b[0m\u001b[0;34m)\u001b[0m\u001b[0;34m\u001b[0m\u001b[0m\n",
      "\u001b[0;31mValueError\u001b[0m: cannot reshape array of size 3268864 into shape (1018081,256)"
     ]
    }
   ],
   "source": [
    "print(patches1.shape)\n",
    "new = patches1.reshape(1018081,256)\n",
    "new = new.T\n",
    "print(new.shape)\n"
   ]
  },
  {
   "cell_type": "code",
   "execution_count": 36,
   "metadata": {
    "collapsed": true
   },
   "outputs": [],
   "source": [
    "def linear_convolution(center, slide): \n",
    "    if (center.shape != slide.shape):\n",
    "        return\n",
    "    padded_slide = np.zeros((center.shape[0],center.shape[1]*3))\n",
    "    padded_slide[0:,center.shape[1]:center.shape[1]*2] = center\n",
    "    estimate = np.empty([center.shape[1]*2])\n",
    "    for x in range(center.shape[1]*2):\n",
    "        dot = np.sum(padded_slide[0:,0+x:center.shape[1]+x] * slide)\n",
    "        estimate[x] = dot\n",
    "    plt.plot(np.abs(estimate))\n",
    "    plt.show()\n",
    "    print(np.argmax(np.abs(estimate)))"
   ]
  },
  {
   "cell_type": "code",
   "execution_count": null,
   "metadata": {
    "collapsed": true
   },
   "outputs": [],
   "source": []
  }
 ],
 "metadata": {
  "kernelspec": {
   "display_name": "Python 3",
   "language": "python",
   "name": "python3"
  },
  "language_info": {
   "codemirror_mode": {
    "name": "ipython",
    "version": 3
   },
   "file_extension": ".py",
   "mimetype": "text/x-python",
   "name": "python",
   "nbconvert_exporter": "python",
   "pygments_lexer": "ipython3",
   "version": "3.6.1"
  }
 },
 "nbformat": 4,
 "nbformat_minor": 2
}
